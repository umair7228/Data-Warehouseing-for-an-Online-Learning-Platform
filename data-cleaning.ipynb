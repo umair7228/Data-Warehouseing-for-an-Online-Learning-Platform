{
 "cells": [
  {
   "cell_type": "markdown",
   "metadata": {},
   "source": [
    "## Step 2. Data Cleaning\n",
    "### Read Raw Data in Spark"
   ]
  },
  {
   "cell_type": "code",
   "execution_count": 43,
   "metadata": {},
   "outputs": [],
   "source": [
    "# pip install pyspark snowflake-connector-python snowflake-sqlalchemy"
   ]
  },
  {
   "cell_type": "code",
   "execution_count": 28,
   "metadata": {},
   "outputs": [],
   "source": [
    "from pyspark.sql import SparkSession\n",
    "from pyspark.sql.functions import col, lower\n",
    "import boto3\n",
    "import os"
   ]
  },
  {
   "cell_type": "code",
   "execution_count": 29,
   "metadata": {},
   "outputs": [],
   "source": [
    "spark = SparkSession.builder.appName(\"DataCleaning&Loading\").getOrCreate()"
   ]
  },
  {
   "cell_type": "code",
   "execution_count": 30,
   "metadata": {},
   "outputs": [],
   "source": [
    "# Read raw CSV files\n",
    "df_courses = spark.read.csv(\"./datasets/raw_courses.csv\", header=True, inferSchema=True)\n",
    "df_enrollments = spark.read.csv(\"./datasets/raw_enrollments.csv\", header=True, inferSchema=True)\n",
    "df_instructors = spark.read.csv(\"./datasets/raw_instructors.csv\", header=True, inferSchema=True)\n",
    "df_skills = spark.read.csv(\"./datasets/raw_skills.csv\", header=True, inferSchema=True)"
   ]
  },
  {
   "cell_type": "code",
   "execution_count": 42,
   "metadata": {},
   "outputs": [
    {
     "name": "stdout",
     "output_type": "stream",
     "text": [
      "+--------------------+----------------+\n",
      "|           course_id|      skill_name|\n",
      "+--------------------+----------------+\n",
      "|f9e421bc-1120-453...|Machine Learning|\n",
      "|08252b39-1947-4a4...|          Python|\n",
      "|085e0518-2d75-4dd...|      JavaScript|\n",
      "|d7131c2e-2001-465...|Machine Learning|\n",
      "|dafc3805-7f64-45d...|Machine Learning|\n",
      "+--------------------+----------------+\n",
      "only showing top 5 rows\n",
      "\n"
     ]
    }
   ],
   "source": [
    "df_skills.show(5)"
   ]
  },
  {
   "cell_type": "code",
   "execution_count": 31,
   "metadata": {},
   "outputs": [
    {
     "name": "stdout",
     "output_type": "stream",
     "text": [
      "+--------------------+--------------------+--------------------+------------+---------------+------------+--------+------+--------------+-------------+----------------+--------------------+----------+\n",
      "|           course_id|         course_name|       instructor_id|    platform|       category|       level|language| price|duration_hours|lecture_count|certificate_type|          course_url|date_added|\n",
      "+--------------------+--------------------+--------------------+------------+---------------+------------+--------+------+--------------+-------------+----------------+--------------------+----------+\n",
      "|7a768555-a987-421...|Heavy what least ...|db52ca58-0500-4bc...|Khan Academy|Web Development|    Beginner|  French|439.55|          52.9|           52|  No Certificate|https://bernard.net/|2022-09-11|\n",
      "|fb756923-f910-4bb...|    Side relate real|fb2ca025-adf4-462...|  Skillshare|Cloud Computing|    Advanced|  French|305.23|          59.2|           88|            NULL|https://bailey-pe...|2022-08-09|\n",
      "|8b0e8eb1-ad37-4d9...|Time house genera...|c241330b-01a9-471...|Khan Academy|Web Development|    Advanced| English|468.53|           8.9|           19|     Certificate| http://roberts.com/|2023-02-07|\n",
      "|41a64fed-a7ed-48d...|Degree still even no|e1e0fffc-98f6-4d7...|Khan Academy|             AI|Intermediate|  French|301.81|          43.3|           31|            NULL|https://www.gilbe...|2022-03-21|\n",
      "|87f255d6-e7ba-46a...|Point appear incl...|fd034ada-c952-418...|         edX|Cloud Computing|Intermediate|  French|451.76|          50.9|           16|            NULL|https://www.towns...|2023-08-14|\n",
      "+--------------------+--------------------+--------------------+------------+---------------+------------+--------+------+--------------+-------------+----------------+--------------------+----------+\n",
      "only showing top 5 rows\n",
      "\n"
     ]
    }
   ],
   "source": [
    "df_courses.show(5)"
   ]
  },
  {
   "cell_type": "code",
   "execution_count": 32,
   "metadata": {},
   "outputs": [
    {
     "name": "stdout",
     "output_type": "stream",
     "text": [
      "root\n",
      " |-- course_id: string (nullable = true)\n",
      " |-- course_name: string (nullable = true)\n",
      " |-- instructor_id: string (nullable = true)\n",
      " |-- platform: string (nullable = true)\n",
      " |-- category: string (nullable = true)\n",
      " |-- level: string (nullable = true)\n",
      " |-- language: string (nullable = true)\n",
      " |-- price: double (nullable = true)\n",
      " |-- duration_hours: double (nullable = true)\n",
      " |-- lecture_count: integer (nullable = true)\n",
      " |-- certificate_type: string (nullable = true)\n",
      " |-- course_url: string (nullable = true)\n",
      " |-- date_added: date (nullable = true)\n",
      "\n"
     ]
    }
   ],
   "source": [
    "df_courses.printSchema()"
   ]
  },
  {
   "cell_type": "code",
   "execution_count": 33,
   "metadata": {},
   "outputs": [
    {
     "name": "stdout",
     "output_type": "stream",
     "text": [
      "+--------------------+--------------------+--------------------+------------+---------------+------------+--------+------+--------------+-------------+----------------+--------------------+----------+\n",
      "|           course_id|         course_name|       instructor_id|    platform|       category|       level|language| price|duration_hours|lecture_count|certificate_type|          course_url|date_added|\n",
      "+--------------------+--------------------+--------------------+------------+---------------+------------+--------+------+--------------+-------------+----------------+--------------------+----------+\n",
      "|7a768555-a987-421...|Heavy what least ...|db52ca58-0500-4bc...|Khan Academy|web development|    Beginner|  French|439.55|          52.9|           52|  No Certificate|https://bernard.net/|2022-09-11|\n",
      "|fb756923-f910-4bb...|    Side relate real|fb2ca025-adf4-462...|  Skillshare|cloud computing|    Advanced|  French|305.23|          59.2|           88|  No Certificate|https://bailey-pe...|2022-08-09|\n",
      "|8b0e8eb1-ad37-4d9...|Time house genera...|c241330b-01a9-471...|Khan Academy|web development|    Advanced| English|468.53|           8.9|           19|     Certificate| http://roberts.com/|2023-02-07|\n",
      "|41a64fed-a7ed-48d...|Degree still even no|e1e0fffc-98f6-4d7...|Khan Academy|             ai|Intermediate|  French|301.81|          43.3|           31|  No Certificate|https://www.gilbe...|2022-03-21|\n",
      "|87f255d6-e7ba-46a...|Point appear incl...|fd034ada-c952-418...|         edX|cloud computing|Intermediate|  French|451.76|          50.9|           16|  No Certificate|https://www.towns...|2023-08-14|\n",
      "+--------------------+--------------------+--------------------+------------+---------------+------------+--------+------+--------------+-------------+----------------+--------------------+----------+\n",
      "only showing top 5 rows\n",
      "\n"
     ]
    }
   ],
   "source": [
    "# Fill missing values in courses (certificate_type) with 'No Certificate'\n",
    "df_courses = df_courses.fillna({'certificate_type': 'No Certificate'})\n",
    "\n",
    "# Convert text to lowercase\n",
    "df_courses = df_courses.withColumn(\"category\", lower(df_courses[\"category\"]))\n",
    "\n",
    "# Convert price data type to float\n",
    "df_courses = df_courses.withColumn(\"price\", col(\"price\").cast(\"float\"))\n",
    "\n",
    "df_courses.show(5)"
   ]
  },
  {
   "cell_type": "code",
   "execution_count": 34,
   "metadata": {},
   "outputs": [
    {
     "name": "stdout",
     "output_type": "stream",
     "text": [
      "+--------------------+--------------------+--------------------+-----------------+--------------------+-------------+---------+------+--------------------+\n",
      "|       enrollment_id|           course_id|          student_id|     student_name|       student_email|enrolled_date|completed|rating|         review_text|\n",
      "+--------------------+--------------------+--------------------+-----------------+--------------------+-------------+---------+------+--------------------+\n",
      "|9d3cc9ca-db24-4ea...|cd9b79fd-a04c-47f...|5ae654b7-9e3b-47e...|      Alice Weber|davidbrown@exampl...|   2022-09-05|    false|  4.99|                NULL|\n",
      "|d5bbe3a4-40b8-4dc...|6ce763e1-708f-45a...|8e487a8c-e3e4-494...|      Nancy Green|suzanne28@example...|   2024-04-11|    false|  2.61|Middle her shake ...|\n",
      "|ac49b6e2-27a4-474...|21419a14-9acc-400...|666bd0ee-b257-4bf...|Elizabeth Jackson|rickey20@example.org|   2023-12-11|    false|  NULL|                NULL|\n",
      "|5e460f1c-2169-40d...|cdcc2d6a-1a16-498...|87400c48-d854-43e...|         Brian Yu|christopher06@exa...|   2024-11-04|     NULL|  4.22|Church watch heal...|\n",
      "|15a8cb98-ab2d-46a...|6e310234-c410-410...|6943dab7-4ec7-4bd...|    Sharon Palmer|ingramjessica@exa...|   2023-03-09|     true|  2.74|                NULL|\n",
      "+--------------------+--------------------+--------------------+-----------------+--------------------+-------------+---------+------+--------------------+\n",
      "only showing top 5 rows\n",
      "\n"
     ]
    }
   ],
   "source": [
    "df_enrollments.show(5)"
   ]
  },
  {
   "cell_type": "code",
   "execution_count": 35,
   "metadata": {},
   "outputs": [
    {
     "name": "stdout",
     "output_type": "stream",
     "text": [
      "root\n",
      " |-- enrollment_id: string (nullable = true)\n",
      " |-- course_id: string (nullable = true)\n",
      " |-- student_id: string (nullable = true)\n",
      " |-- student_name: string (nullable = true)\n",
      " |-- student_email: string (nullable = true)\n",
      " |-- enrolled_date: date (nullable = true)\n",
      " |-- completed: boolean (nullable = true)\n",
      " |-- rating: double (nullable = true)\n",
      " |-- review_text: string (nullable = true)\n",
      "\n"
     ]
    }
   ],
   "source": [
    "df_enrollments.printSchema()"
   ]
  },
  {
   "cell_type": "code",
   "execution_count": 39,
   "metadata": {},
   "outputs": [
    {
     "name": "stdout",
     "output_type": "stream",
     "text": [
      "+--------------------+--------------------+--------------------+-----------------+--------------------+-------------+---------+--------+--------------------+\n",
      "|       enrollment_id|           course_id|          student_id|     student_name|       student_email|enrolled_date|completed|  rating|         review_text|\n",
      "+--------------------+--------------------+--------------------+-----------------+--------------------+-------------+---------+--------+--------------------+\n",
      "|9d3cc9ca-db24-4ea...|cd9b79fd-a04c-47f...|5ae654b7-9e3b-47e...|      Alice Weber|davidbrown@exampl...|   2022-09-05|    false|    4.99|                NULL|\n",
      "|d5bbe3a4-40b8-4dc...|6ce763e1-708f-45a...|8e487a8c-e3e4-494...|      Nancy Green|suzanne28@example...|   2024-04-11|    false|    2.61|Middle her shake ...|\n",
      "|ac49b6e2-27a4-474...|21419a14-9acc-400...|666bd0ee-b257-4bf...|Elizabeth Jackson|rickey20@example.org|   2023-12-11|    false|3.768775|                NULL|\n",
      "|5e460f1c-2169-40d...|cdcc2d6a-1a16-498...|87400c48-d854-43e...|         Brian Yu|christopher06@exa...|   2024-11-04|    false|    4.22|Church watch heal...|\n",
      "|15a8cb98-ab2d-46a...|6e310234-c410-410...|6943dab7-4ec7-4bd...|    Sharon Palmer|ingramjessica@exa...|   2023-03-09|     true|    2.74|                NULL|\n",
      "+--------------------+--------------------+--------------------+-----------------+--------------------+-------------+---------+--------+--------------------+\n",
      "only showing top 5 rows\n",
      "\n"
     ]
    }
   ],
   "source": [
    "# Fill missing ratings with the average rating\n",
    "avg_rating = df_enrollments.selectExpr(\"avg(rating) as avg_rating\").collect()[0][\"avg_rating\"]\n",
    "df_enrollments = df_enrollments.fillna({'rating': avg_rating})\n",
    "df_enrollments = df_enrollments.fillna({\"completed\": False})\n",
    "\n",
    "# Format date correctly\n",
    "df_enrollments = df_enrollments.withColumn(\"enrolled_date\", col(\"enrolled_date\").cast(\"date\"))\n",
    "\n",
    "# Convert rating data type to float\n",
    "df_enrollments = df_enrollments.withColumn(\"rating\", col(\"rating\").cast(\"float\"))\n",
    "df_enrollments.show(5)"
   ]
  },
  {
   "cell_type": "markdown",
   "metadata": {},
   "source": [
    "### Save Cleaned Data in Optimized Parquet Format"
   ]
  },
  {
   "cell_type": "code",
   "execution_count": null,
   "metadata": {},
   "outputs": [
    {
     "name": "stdout",
     "output_type": "stream",
     "text": [
      "Uploaded enrollments.csv to S3 successfully!\n",
      "All files uploaded successfully! 🚀\n"
     ]
    }
   ],
   "source": [
    "s3_client = boto3.client(\"s3\", region_name=\"us-west-2\")\n",
    "bucket_name = \"learning-platform-cleaned-data\"\n",
    "\n",
    "# List of DataFrames\n",
    "dataframes = {\n",
    "    \"courses\": df_courses,\n",
    "    \"enrollments\": df_enrollments,\n",
    "    \"instructors\": df_instructors,\n",
    "    \"skills\": df_skills\n",
    "}\n",
    "\n",
    "for name, df in dataframes.items():\n",
    "    output_dir = f\"cleaned_{name}\"\n",
    "    df.coalesce(1).write.csv(output_dir, header=True, mode=\"overwrite\")\n",
    "\n",
    "    file_name = [f for f in os.listdir(output_dir) if f.endswith(\".csv\")][0]\n",
    "    output_file = os.path.join(output_dir, file_name)\n",
    "\n",
    "    # Upload to S3\n",
    "    s3_object_key = f\"{name}.csv\"\n",
    "    s3_client.upload_file(output_file, bucket_name, s3_object_key)\n",
    "\n",
    "    print(f\"Uploaded {s3_object_key} to S3 successfully!\")\n",
    "\n",
    "print(\"All files uploaded successfully! 🚀\")"
   ]
  },
  {
   "cell_type": "code",
   "execution_count": null,
   "metadata": {},
   "outputs": [
    {
     "name": "stderr",
     "output_type": "stream",
     "text": [
      "                                                                                \r"
     ]
    }
   ],
   "source": [
    "df_courses.write.mode(\"overwrite\").parquet(\"processed_courses\")\n",
    "df_enrollments.write.mode(\"overwrite\").parquet(\"processed_enrollments\")\n",
    "df_instructors.write.mode(\"overwrite\").parquet(\"processed_instructors\")\n",
    "df_skills.write.mode(\"overwrite\").parquet(\"processed_skills\")"
   ]
  },
  {
   "cell_type": "code",
   "execution_count": null,
   "metadata": {},
   "outputs": [],
   "source": []
  }
 ],
 "metadata": {
  "kernelspec": {
   "display_name": "airflow_venv",
   "language": "python",
   "name": "python3"
  },
  "language_info": {
   "codemirror_mode": {
    "name": "ipython",
    "version": 3
   },
   "file_extension": ".py",
   "mimetype": "text/x-python",
   "name": "python",
   "nbconvert_exporter": "python",
   "pygments_lexer": "ipython3",
   "version": "3.12.3"
  }
 },
 "nbformat": 4,
 "nbformat_minor": 2
}
