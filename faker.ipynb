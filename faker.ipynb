{
 "cells": [
  {
   "cell_type": "markdown",
   "metadata": {},
   "source": [
    "## Step 1. Generate Raw Data"
   ]
  },
  {
   "cell_type": "code",
   "execution_count": 4,
   "metadata": {},
   "outputs": [
    {
     "name": "stdout",
     "output_type": "stream",
     "text": [
      "✅ Realistic Mock Data Generated Successfully!\n"
     ]
    }
   ],
   "source": [
    "import pandas as pd\n",
    "import random\n",
    "from faker import Faker\n",
    "\n",
    "# Initialize Faker\n",
    "fake = Faker()\n",
    "Faker.seed(42)\n",
    "random.seed(42)\n",
    "\n",
    "# Define constants\n",
    "NUM_COURSES = 1000  # Adjust the number of courses\n",
    "NUM_INSTRUCTORS = 200  # Number of unique instructors\n",
    "PLATFORMS = [\"Coursera\", \"Udemy\", \"edX\", \"Skillshare\", \"Khan Academy\"]\n",
    "CATEGORIES = [\"Data Science\", \"AI\", \"Web Development\", \"Business\", \"Cloud Computing\"]\n",
    "COURSE_LEVELS = [\"Beginner\", \"Intermediate\", \"Advanced\"]\n",
    "LANGUAGES = [\"English\", \"Spanish\", \"French\", \"German\", \"Mandarin\"]\n",
    "SKILLS = [\"Machine Learning\", \"SQL\", \"Python\", \"JavaScript\", \"Cloud Computing\", \"Data Analysis\"]\n",
    "\n",
    "# Generate Instructors\n",
    "instructors = []\n",
    "for _ in range(NUM_INSTRUCTORS):\n",
    "    instructors.append({\n",
    "        \"instructor_id\": fake.uuid4(),\n",
    "        \"instructor_name\": fake.name(),\n",
    "        \"institution\": random.choice([\"MIT\", \"Stanford\", \"Harvard\", \"Independent\", \"Google\", None]),  # Some missing values\n",
    "        \"experience_years\": random.randint(1, 25),\n",
    "        \"email\": fake.email()\n",
    "    })\n",
    "df_instructors = pd.DataFrame(instructors)\n",
    "df_instructors.to_csv(\"raw_instructors.csv\", index=False)\n",
    "\n",
    "# Generate Courses\n",
    "courses = []\n",
    "for _ in range(NUM_COURSES):\n",
    "    course_id = fake.uuid4()\n",
    "    courses.append({\n",
    "        \"course_id\": course_id,\n",
    "        \"course_name\": fake.sentence(nb_words=4).replace(\".\", \"\"),  # Realistic course title\n",
    "        \"instructor_id\": random.choice(df_instructors[\"instructor_id\"].tolist()),\n",
    "        \"platform\": random.choice(PLATFORMS),\n",
    "        \"category\": random.choice(CATEGORIES),\n",
    "        \"level\": random.choice(COURSE_LEVELS),\n",
    "        \"language\": random.choice(LANGUAGES),\n",
    "        \"price\": round(random.uniform(0, 499), 2),  # Some courses are free (0 price)\n",
    "        \"duration_hours\": round(random.uniform(1, 60), 1),\n",
    "        \"lecture_count\": random.randint(5, 100),\n",
    "        \"certificate_type\": random.choice([\"Certificate\", \"No Certificate\", None]),  # Some missing values\n",
    "        \"course_url\": fake.url(),\n",
    "        \"date_added\": fake.date_between(start_date=\"-5y\", end_date=\"today\"),  # Randomized historical data\n",
    "    })\n",
    "df_courses = pd.DataFrame(courses)\n",
    "df_courses.to_csv(\"raw_courses.csv\", index=False)\n",
    "\n",
    "# Generate Student Enrollments\n",
    "enrollments = []\n",
    "for _ in range(NUM_COURSES * 2):  # More enrollments than courses\n",
    "    course_id = random.choice(df_courses[\"course_id\"].tolist())\n",
    "    enrolled_students = random.randint(50, 5000)\n",
    "    completed_students = int(enrolled_students * random.uniform(0.2, 0.9))  # 20-90% completion\n",
    "    enrollments.append({\n",
    "        \"enrollment_id\": fake.uuid4(),\n",
    "        \"course_id\": course_id,\n",
    "        \"student_id\": fake.uuid4(),\n",
    "        \"student_name\": fake.name(),\n",
    "        \"student_email\": fake.email(),\n",
    "        \"enrolled_date\": fake.date_between(start_date=\"-3y\", end_date=\"today\"),\n",
    "        \"completed\": random.choice([True, False, None]),  # Some missing values\n",
    "        \"rating\": round(random.uniform(2.5, 5.0), 2) if random.random() > 0.1 else None,  # Some missing ratings\n",
    "        \"review_text\": fake.sentence(nb_words=random.randint(5, 20)) if random.random() > 0.7 else None,  # Some missing reviews\n",
    "    })\n",
    "df_enrollments = pd.DataFrame(enrollments)\n",
    "df_enrollments.to_csv(\"raw_enrollments.csv\", index=False)\n",
    "\n",
    "# Generate Skills Mapping\n",
    "skills_data = []\n",
    "for _ in range(NUM_COURSES * 2):  # Some courses have multiple skills\n",
    "    skills_data.append({\n",
    "        \"course_id\": random.choice(df_courses[\"course_id\"].tolist()),\n",
    "        \"skill_name\": random.choice(SKILLS)\n",
    "    })\n",
    "df_skills = pd.DataFrame(skills_data)\n",
    "df_skills.to_csv(\"raw_skills.csv\", index=False)\n",
    "\n",
    "print(\"✅ Realistic Mock Data Generated Successfully!\")"
   ]
  }
 ],
 "metadata": {
  "kernelspec": {
   "display_name": "Python 3",
   "language": "python",
   "name": "python3"
  },
  "language_info": {
   "codemirror_mode": {
    "name": "ipython",
    "version": 3
   },
   "file_extension": ".py",
   "mimetype": "text/x-python",
   "name": "python",
   "nbconvert_exporter": "python",
   "pygments_lexer": "ipython3",
   "version": "3.12.5"
  }
 },
 "nbformat": 4,
 "nbformat_minor": 2
}
